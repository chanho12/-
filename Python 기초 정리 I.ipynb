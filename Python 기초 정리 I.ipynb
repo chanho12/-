{
 "cells": [
  {
   "cell_type": "code",
   "execution_count": 1,
   "id": "e4082c6e",
   "metadata": {},
   "outputs": [
    {
     "data": {
      "text/plain": [
       "18"
      ]
     },
     "execution_count": 1,
     "metadata": {},
     "output_type": "execute_result"
    }
   ],
   "source": [
    "13 + 5"
   ]
  },
  {
   "cell_type": "code",
   "execution_count": 2,
   "id": "ab03fc77",
   "metadata": {},
   "outputs": [
    {
     "data": {
      "text/plain": [
       "18"
      ]
     },
     "execution_count": 2,
     "metadata": {},
     "output_type": "execute_result"
    }
   ],
   "source": [
    "13+5"
   ]
  },
  {
   "cell_type": "code",
   "execution_count": 3,
   "id": "104bc087",
   "metadata": {},
   "outputs": [
    {
     "data": {
      "text/plain": [
       "18"
      ]
     },
     "execution_count": 3,
     "metadata": {},
     "output_type": "execute_result"
    }
   ],
   "source": [
    " 13+5"
   ]
  },
  {
   "cell_type": "markdown",
   "id": "5f220546",
   "metadata": {},
   "source": [
    "## atomic value와 함수 type"
   ]
  },
  {
   "cell_type": "markdown",
   "id": "676b34ff",
   "metadata": {},
   "source": [
    "Atomic value란 분해되지 않는 값."
   ]
  },
  {
   "cell_type": "code",
   "execution_count": 4,
   "id": "f05f5fa5",
   "metadata": {},
   "outputs": [
    {
     "data": {
      "text/plain": [
       "13"
      ]
     },
     "execution_count": 4,
     "metadata": {},
     "output_type": "execute_result"
    }
   ],
   "source": [
    "13"
   ]
  },
  {
   "cell_type": "code",
   "execution_count": 5,
   "id": "0db49954",
   "metadata": {},
   "outputs": [
    {
     "data": {
      "text/plain": [
       "int"
      ]
     },
     "execution_count": 5,
     "metadata": {},
     "output_type": "execute_result"
    }
   ],
   "source": [
    "type(13)"
   ]
  },
  {
   "cell_type": "code",
   "execution_count": 6,
   "id": "aca17d26",
   "metadata": {},
   "outputs": [
    {
     "data": {
      "text/plain": [
       "13.5"
      ]
     },
     "execution_count": 6,
     "metadata": {},
     "output_type": "execute_result"
    }
   ],
   "source": [
    "13.5"
   ]
  },
  {
   "cell_type": "code",
   "execution_count": 7,
   "id": "4b0eab0d",
   "metadata": {},
   "outputs": [
    {
     "data": {
      "text/plain": [
       "float"
      ]
     },
     "execution_count": 7,
     "metadata": {},
     "output_type": "execute_result"
    }
   ],
   "source": [
    "type(13.5)"
   ]
  },
  {
   "cell_type": "code",
   "execution_count": 8,
   "id": "8f4e27fb",
   "metadata": {},
   "outputs": [
    {
     "data": {
      "text/plain": [
       "'apple'"
      ]
     },
     "execution_count": 8,
     "metadata": {},
     "output_type": "execute_result"
    }
   ],
   "source": [
    "'apple'"
   ]
  },
  {
   "cell_type": "code",
   "execution_count": 9,
   "id": "70e8e787",
   "metadata": {},
   "outputs": [
    {
     "data": {
      "text/plain": [
       "str"
      ]
     },
     "execution_count": 9,
     "metadata": {},
     "output_type": "execute_result"
    }
   ],
   "source": [
    "type('apple')"
   ]
  },
  {
   "cell_type": "code",
   "execution_count": 10,
   "id": "d80b12fb",
   "metadata": {},
   "outputs": [
    {
     "data": {
      "text/plain": [
       "'apple'"
      ]
     },
     "execution_count": 10,
     "metadata": {},
     "output_type": "execute_result"
    }
   ],
   "source": [
    "\"apple\""
   ]
  },
  {
   "cell_type": "code",
   "execution_count": 11,
   "id": "df86b364",
   "metadata": {},
   "outputs": [
    {
     "data": {
      "text/plain": [
       "str"
      ]
     },
     "execution_count": 11,
     "metadata": {},
     "output_type": "execute_result"
    }
   ],
   "source": [
    "type(\"apple\")"
   ]
  },
  {
   "cell_type": "code",
   "execution_count": 12,
   "id": "d31cfcc7",
   "metadata": {},
   "outputs": [
    {
     "data": {
      "text/plain": [
       "'한글'"
      ]
     },
     "execution_count": 12,
     "metadata": {},
     "output_type": "execute_result"
    }
   ],
   "source": [
    "'한글'"
   ]
  },
  {
   "cell_type": "code",
   "execution_count": 13,
   "id": "62db0548",
   "metadata": {},
   "outputs": [
    {
     "data": {
      "text/plain": [
       "str"
      ]
     },
     "execution_count": 13,
     "metadata": {},
     "output_type": "execute_result"
    }
   ],
   "source": [
    "type('한글')"
   ]
  },
  {
   "cell_type": "code",
   "execution_count": 14,
   "id": "6cf29bf8",
   "metadata": {},
   "outputs": [
    {
     "data": {
      "text/plain": [
       "True"
      ]
     },
     "execution_count": 14,
     "metadata": {},
     "output_type": "execute_result"
    }
   ],
   "source": [
    "True"
   ]
  },
  {
   "cell_type": "code",
   "execution_count": 16,
   "id": "2647c3a6",
   "metadata": {},
   "outputs": [
    {
     "data": {
      "text/plain": [
       "bool"
      ]
     },
     "execution_count": 16,
     "metadata": {},
     "output_type": "execute_result"
    }
   ],
   "source": [
    "type(True)"
   ]
  },
  {
   "cell_type": "code",
   "execution_count": 15,
   "id": "3ae0c7b7",
   "metadata": {},
   "outputs": [
    {
     "data": {
      "text/plain": [
       "False"
      ]
     },
     "execution_count": 15,
     "metadata": {},
     "output_type": "execute_result"
    }
   ],
   "source": [
    "False"
   ]
  },
  {
   "cell_type": "code",
   "execution_count": 17,
   "id": "0255e53f",
   "metadata": {},
   "outputs": [
    {
     "data": {
      "text/plain": [
       "bool"
      ]
     },
     "execution_count": 17,
     "metadata": {},
     "output_type": "execute_result"
    }
   ],
   "source": [
    "type(False)"
   ]
  },
  {
   "cell_type": "markdown",
   "id": "068bad23",
   "metadata": {},
   "source": [
    "## 산술연산자"
   ]
  },
  {
   "cell_type": "code",
   "execution_count": 18,
   "id": "46236e2f",
   "metadata": {},
   "outputs": [
    {
     "data": {
      "text/plain": [
       "12"
      ]
     },
     "execution_count": 18,
     "metadata": {},
     "output_type": "execute_result"
    }
   ],
   "source": [
    "a= 10\n",
    "b= 2\n",
    "a+b"
   ]
  },
  {
   "cell_type": "code",
   "execution_count": 19,
   "id": "440ccfc5",
   "metadata": {},
   "outputs": [
    {
     "data": {
      "text/plain": [
       "8"
      ]
     },
     "execution_count": 19,
     "metadata": {},
     "output_type": "execute_result"
    }
   ],
   "source": [
    "a-b"
   ]
  },
  {
   "cell_type": "code",
   "execution_count": 20,
   "id": "edebb0e5",
   "metadata": {},
   "outputs": [
    {
     "data": {
      "text/plain": [
       "5.0"
      ]
     },
     "execution_count": 20,
     "metadata": {},
     "output_type": "execute_result"
    }
   ],
   "source": [
    "a/b"
   ]
  },
  {
   "cell_type": "code",
   "execution_count": 21,
   "id": "71a797db",
   "metadata": {},
   "outputs": [
    {
     "data": {
      "text/plain": [
       "20"
      ]
     },
     "execution_count": 21,
     "metadata": {},
     "output_type": "execute_result"
    }
   ],
   "source": [
    "a*b"
   ]
  },
  {
   "cell_type": "code",
   "execution_count": 22,
   "id": "da064fd2",
   "metadata": {},
   "outputs": [
    {
     "data": {
      "text/plain": [
       "100"
      ]
     },
     "execution_count": 22,
     "metadata": {},
     "output_type": "execute_result"
    }
   ],
   "source": [
    "a**b"
   ]
  },
  {
   "cell_type": "code",
   "execution_count": 23,
   "id": "f40afd9c",
   "metadata": {},
   "outputs": [
    {
     "data": {
      "text/plain": [
       "5"
      ]
     },
     "execution_count": 23,
     "metadata": {},
     "output_type": "execute_result"
    }
   ],
   "source": [
    "a//b"
   ]
  },
  {
   "cell_type": "code",
   "execution_count": 24,
   "id": "16b8da75",
   "metadata": {},
   "outputs": [
    {
     "data": {
      "text/plain": [
       "0"
      ]
     },
     "execution_count": 24,
     "metadata": {},
     "output_type": "execute_result"
    }
   ],
   "source": [
    "a%b"
   ]
  },
  {
   "cell_type": "markdown",
   "id": "d0a89c61",
   "metadata": {},
   "source": [
    "## 비교 및 논리 연산자"
   ]
  },
  {
   "cell_type": "code",
   "execution_count": 25,
   "id": "6ad60b6a",
   "metadata": {},
   "outputs": [
    {
     "data": {
      "text/plain": [
       "False"
      ]
     },
     "execution_count": 25,
     "metadata": {},
     "output_type": "execute_result"
    }
   ],
   "source": [
    "1 == 2"
   ]
  },
  {
   "cell_type": "code",
   "execution_count": 26,
   "id": "7dd68fb7",
   "metadata": {},
   "outputs": [
    {
     "data": {
      "text/plain": [
       "True"
      ]
     },
     "execution_count": 26,
     "metadata": {},
     "output_type": "execute_result"
    }
   ],
   "source": [
    "2 != 1"
   ]
  },
  {
   "cell_type": "code",
   "execution_count": 28,
   "id": "9409571d",
   "metadata": {},
   "outputs": [
    {
     "data": {
      "text/plain": [
       "False"
      ]
     },
     "execution_count": 28,
     "metadata": {},
     "output_type": "execute_result"
    }
   ],
   "source": [
    "2 <= 1"
   ]
  },
  {
   "cell_type": "code",
   "execution_count": 29,
   "id": "6475cff0",
   "metadata": {},
   "outputs": [
    {
     "data": {
      "text/plain": [
       "True"
      ]
     },
     "execution_count": 29,
     "metadata": {},
     "output_type": "execute_result"
    }
   ],
   "source": [
    "1<2"
   ]
  },
  {
   "cell_type": "code",
   "execution_count": 30,
   "id": "4664400b",
   "metadata": {},
   "outputs": [
    {
     "data": {
      "text/plain": [
       "False"
      ]
     },
     "execution_count": 30,
     "metadata": {},
     "output_type": "execute_result"
    }
   ],
   "source": [
    "1>=2"
   ]
  },
  {
   "cell_type": "code",
   "execution_count": 31,
   "id": "34f43112",
   "metadata": {},
   "outputs": [
    {
     "data": {
      "text/plain": [
       "True"
      ]
     },
     "execution_count": 31,
     "metadata": {},
     "output_type": "execute_result"
    }
   ],
   "source": [
    "2>1"
   ]
  },
  {
   "cell_type": "code",
   "execution_count": 32,
   "id": "896f2724",
   "metadata": {},
   "outputs": [
    {
     "data": {
      "text/plain": [
       "False"
      ]
     },
     "execution_count": 32,
     "metadata": {},
     "output_type": "execute_result"
    }
   ],
   "source": [
    "not True"
   ]
  },
  {
   "cell_type": "code",
   "execution_count": 33,
   "id": "2eace4c5",
   "metadata": {},
   "outputs": [
    {
     "data": {
      "text/plain": [
       "True"
      ]
     },
     "execution_count": 33,
     "metadata": {},
     "output_type": "execute_result"
    }
   ],
   "source": [
    "True or False"
   ]
  },
  {
   "cell_type": "code",
   "execution_count": 34,
   "id": "89ad1831",
   "metadata": {},
   "outputs": [
    {
     "data": {
      "text/plain": [
       "False"
      ]
     },
     "execution_count": 34,
     "metadata": {},
     "output_type": "execute_result"
    }
   ],
   "source": [
    "True and False"
   ]
  },
  {
   "cell_type": "markdown",
   "id": "c772f4d7",
   "metadata": {},
   "source": [
    "## 치환문"
   ]
  },
  {
   "cell_type": "code",
   "execution_count": 35,
   "id": "7eb0fa64",
   "metadata": {},
   "outputs": [],
   "source": [
    "A = 2"
   ]
  },
  {
   "cell_type": "code",
   "execution_count": 36,
   "id": "d35afec4",
   "metadata": {},
   "outputs": [],
   "source": [
    "B = A+ 2"
   ]
  },
  {
   "cell_type": "code",
   "execution_count": 37,
   "id": "71bcddad",
   "metadata": {},
   "outputs": [
    {
     "data": {
      "text/plain": [
       "4"
      ]
     },
     "execution_count": 37,
     "metadata": {},
     "output_type": "execute_result"
    }
   ],
   "source": [
    "B"
   ]
  },
  {
   "cell_type": "code",
   "execution_count": 38,
   "id": "9fbd6faf",
   "metadata": {},
   "outputs": [
    {
     "data": {
      "text/plain": [
       "5"
      ]
     },
     "execution_count": 38,
     "metadata": {},
     "output_type": "execute_result"
    }
   ],
   "source": [
    "a = 1; a = a+4 ; a"
   ]
  },
  {
   "cell_type": "code",
   "execution_count": 42,
   "id": "3d4aaab4",
   "metadata": {},
   "outputs": [
    {
     "data": {
      "text/plain": [
       "-1.0"
      ]
     },
     "execution_count": 42,
     "metadata": {},
     "output_type": "execute_result"
    }
   ],
   "source": [
    "a = a-3; a"
   ]
  },
  {
   "cell_type": "code",
   "execution_count": 40,
   "id": "0e01331a",
   "metadata": {},
   "outputs": [
    {
     "data": {
      "text/plain": [
       "6"
      ]
     },
     "execution_count": 40,
     "metadata": {},
     "output_type": "execute_result"
    }
   ],
   "source": [
    "a *= 3; a"
   ]
  },
  {
   "cell_type": "code",
   "execution_count": 41,
   "id": "f8f26c0a",
   "metadata": {},
   "outputs": [
    {
     "data": {
      "text/plain": [
       "2.0"
      ]
     },
     "execution_count": 41,
     "metadata": {},
     "output_type": "execute_result"
    }
   ],
   "source": [
    "a /= 3; a"
   ]
  },
  {
   "cell_type": "markdown",
   "id": "f4e14994",
   "metadata": {},
   "source": [
    "## 기본 데이터 구조와 함수 type"
   ]
  },
  {
   "cell_type": "code",
   "execution_count": 43,
   "id": "139315e3",
   "metadata": {},
   "outputs": [
    {
     "data": {
      "text/plain": [
       "'abab'"
      ]
     },
     "execution_count": 43,
     "metadata": {},
     "output_type": "execute_result"
    }
   ],
   "source": [
    "a = 'abab'\n",
    "a"
   ]
  },
  {
   "cell_type": "code",
   "execution_count": 44,
   "id": "e35d17d5",
   "metadata": {},
   "outputs": [
    {
     "data": {
      "text/plain": [
       "str"
      ]
     },
     "execution_count": 44,
     "metadata": {},
     "output_type": "execute_result"
    }
   ],
   "source": [
    "type(a)\n"
   ]
  },
  {
   "cell_type": "code",
   "execution_count": 45,
   "id": "20c06a55",
   "metadata": {},
   "outputs": [
    {
     "data": {
      "text/plain": [
       "['a', 'b', 'a', 'b']"
      ]
     },
     "execution_count": 45,
     "metadata": {},
     "output_type": "execute_result"
    }
   ],
   "source": [
    "list(a)"
   ]
  },
  {
   "cell_type": "code",
   "execution_count": 46,
   "id": "7d23390a",
   "metadata": {},
   "outputs": [
    {
     "data": {
      "text/plain": [
       "list"
      ]
     },
     "execution_count": 46,
     "metadata": {},
     "output_type": "execute_result"
    }
   ],
   "source": [
    "type(list(a))"
   ]
  },
  {
   "cell_type": "code",
   "execution_count": 47,
   "id": "0c5d867b",
   "metadata": {},
   "outputs": [
    {
     "data": {
      "text/plain": [
       "('a', 'b', 'a', 'b')"
      ]
     },
     "execution_count": 47,
     "metadata": {},
     "output_type": "execute_result"
    }
   ],
   "source": [
    "tuple(a)"
   ]
  },
  {
   "cell_type": "code",
   "execution_count": 48,
   "id": "45b43383",
   "metadata": {},
   "outputs": [
    {
     "data": {
      "text/plain": [
       "tuple"
      ]
     },
     "execution_count": 48,
     "metadata": {},
     "output_type": "execute_result"
    }
   ],
   "source": [
    "type(tuple(a))"
   ]
  },
  {
   "cell_type": "code",
   "execution_count": 49,
   "id": "3ec630df",
   "metadata": {},
   "outputs": [
    {
     "data": {
      "text/plain": [
       "{'a', 'b'}"
      ]
     },
     "execution_count": 49,
     "metadata": {},
     "output_type": "execute_result"
    }
   ],
   "source": [
    "set(a)"
   ]
  },
  {
   "cell_type": "code",
   "execution_count": 50,
   "id": "e8cb1a93",
   "metadata": {},
   "outputs": [
    {
     "data": {
      "text/plain": [
       "set"
      ]
     },
     "execution_count": 50,
     "metadata": {},
     "output_type": "execute_result"
    }
   ],
   "source": [
    "type(set(a))"
   ]
  },
  {
   "cell_type": "code",
   "execution_count": 52,
   "id": "d6069854",
   "metadata": {},
   "outputs": [
    {
     "data": {
      "text/plain": [
       "{'a': 'b', 'b': 'c'}"
      ]
     },
     "execution_count": 52,
     "metadata": {},
     "output_type": "execute_result"
    }
   ],
   "source": [
    "dict((('a','b'),('b','c')))"
   ]
  },
  {
   "cell_type": "code",
   "execution_count": 53,
   "id": "b9aec99c",
   "metadata": {},
   "outputs": [
    {
     "data": {
      "text/plain": [
       "dict"
      ]
     },
     "execution_count": 53,
     "metadata": {},
     "output_type": "execute_result"
    }
   ],
   "source": [
    "type(dict((('a','b'),('b','c'))))"
   ]
  },
  {
   "cell_type": "markdown",
   "id": "afdf30c8",
   "metadata": {},
   "source": [
    "## 제어문 : if"
   ]
  },
  {
   "cell_type": "code",
   "execution_count": 54,
   "id": "1b0c558c",
   "metadata": {},
   "outputs": [
    {
     "name": "stdout",
     "output_type": "stream",
     "text": [
      "축하합니다\n"
     ]
    }
   ],
   "source": [
    "score = 95\n",
    "if score >= 90:\n",
    "    print(\"축하합니다\")\n",
    "else:\n",
    "    print(\"다음 기회에\")"
   ]
  },
  {
   "cell_type": "code",
   "execution_count": 55,
   "id": "4b586f7a",
   "metadata": {},
   "outputs": [
    {
     "name": "stdout",
     "output_type": "stream",
     "text": [
      "다음 기회에\n"
     ]
    }
   ],
   "source": [
    "score = 80\n",
    "if score >= 90:\n",
    "    print(\"축하합니다\")\n",
    "else:\n",
    "    print(\"다음 기회에\")"
   ]
  },
  {
   "cell_type": "markdown",
   "id": "2ece60d9",
   "metadata": {},
   "source": [
    "## 조건식의 자격"
   ]
  },
  {
   "cell_type": "code",
   "execution_count": 56,
   "id": "cca2872f",
   "metadata": {},
   "outputs": [
    {
     "name": "stdout",
     "output_type": "stream",
     "text": [
      "성공\n"
     ]
    }
   ],
   "source": [
    "if True:\n",
    "    print(\"성공\")"
   ]
  },
  {
   "cell_type": "code",
   "execution_count": 57,
   "id": "f61f1b17",
   "metadata": {},
   "outputs": [],
   "source": [
    "if False:\n",
    "    print(\"실패\")"
   ]
  },
  {
   "cell_type": "code",
   "execution_count": 58,
   "id": "3c5ba6b7",
   "metadata": {},
   "outputs": [
    {
     "name": "stdout",
     "output_type": "stream",
     "text": [
      "성공\n"
     ]
    }
   ],
   "source": [
    "if 1:\n",
    "    print(\"성공\")"
   ]
  },
  {
   "cell_type": "code",
   "execution_count": 59,
   "id": "4a599c58",
   "metadata": {},
   "outputs": [],
   "source": [
    "if 0:\n",
    "    print(\"실패\")"
   ]
  },
  {
   "cell_type": "code",
   "execution_count": 60,
   "id": "89d014a7",
   "metadata": {},
   "outputs": [
    {
     "name": "stdout",
     "output_type": "stream",
     "text": [
      "성공\n"
     ]
    }
   ],
   "source": [
    "if 'a':\n",
    "    print(\"성공\")"
   ]
  },
  {
   "cell_type": "code",
   "execution_count": 61,
   "id": "ccc04008",
   "metadata": {},
   "outputs": [],
   "source": [
    "if \"\":\n",
    "    print(\"실패\")"
   ]
  },
  {
   "cell_type": "code",
   "execution_count": 62,
   "id": "eb6310bb",
   "metadata": {},
   "outputs": [
    {
     "name": "stdout",
     "output_type": "stream",
     "text": [
      "성공\n"
     ]
    }
   ],
   "source": [
    "if [\"\"]:\n",
    "    print(\"성공\")"
   ]
  },
  {
   "cell_type": "code",
   "execution_count": 63,
   "id": "c2a5da4c",
   "metadata": {},
   "outputs": [],
   "source": [
    "if []:\n",
    "    print(\"실패\")"
   ]
  },
  {
   "cell_type": "markdown",
   "id": "f5a8587b",
   "metadata": {},
   "source": [
    "## 제어문: for문"
   ]
  },
  {
   "cell_type": "code",
   "execution_count": 64,
   "id": "83680592",
   "metadata": {},
   "outputs": [
    {
     "name": "stdout",
     "output_type": "stream",
     "text": [
      "cat \t 3\n",
      "cow \t 3\n",
      "tiger \t 5\n"
     ]
    }
   ],
   "source": [
    "a = ['cat','cow','tiger']\n",
    "for x in a:\n",
    "    print(x, '\\t', len(x))"
   ]
  },
  {
   "cell_type": "markdown",
   "id": "82fec49f",
   "metadata": {},
   "source": [
    "## 제어문: while문 "
   ]
  },
  {
   "cell_type": "code",
   "execution_count": 65,
   "id": "16dd66ca",
   "metadata": {},
   "outputs": [
    {
     "name": "stdout",
     "output_type": "stream",
     "text": [
      "1\n",
      "2\n",
      "3\n",
      "4\n",
      "5\n",
      "6\n",
      "7\n",
      "8\n",
      "9\n",
      "10\n"
     ]
    }
   ],
   "source": [
    "a = 0\n",
    "while a<10:\n",
    "    a = a+1\n",
    "    print(a)"
   ]
  },
  {
   "cell_type": "markdown",
   "id": "4cfca046",
   "metadata": {},
   "source": [
    "## Sequence: 문자열, 리스트, 튜플 "
   ]
  },
  {
   "cell_type": "code",
   "execution_count": 66,
   "id": "c7b776ed",
   "metadata": {},
   "outputs": [],
   "source": [
    "a = 'abcd'; b=list(a); c=tuple(a)"
   ]
  },
  {
   "cell_type": "code",
   "execution_count": 67,
   "id": "86f82d73",
   "metadata": {},
   "outputs": [
    {
     "data": {
      "text/plain": [
       "'abcd'"
      ]
     },
     "execution_count": 67,
     "metadata": {},
     "output_type": "execute_result"
    }
   ],
   "source": [
    "a"
   ]
  },
  {
   "cell_type": "code",
   "execution_count": 68,
   "id": "14cd84e5",
   "metadata": {},
   "outputs": [
    {
     "data": {
      "text/plain": [
       "['a', 'b', 'c', 'd']"
      ]
     },
     "execution_count": 68,
     "metadata": {},
     "output_type": "execute_result"
    }
   ],
   "source": [
    "b"
   ]
  },
  {
   "cell_type": "code",
   "execution_count": 69,
   "id": "37831389",
   "metadata": {},
   "outputs": [
    {
     "data": {
      "text/plain": [
       "('a', 'b', 'c', 'd')"
      ]
     },
     "execution_count": 69,
     "metadata": {},
     "output_type": "execute_result"
    }
   ],
   "source": [
    "c"
   ]
  },
  {
   "cell_type": "code",
   "execution_count": 72,
   "id": "5b2d69e3",
   "metadata": {},
   "outputs": [
    {
     "data": {
      "text/plain": [
       "('a', 'd', 'a', 'ab')"
      ]
     },
     "execution_count": 72,
     "metadata": {},
     "output_type": "execute_result"
    }
   ],
   "source": [
    "a[0], a[-1], a[0:1], a[0:2]"
   ]
  },
  {
   "cell_type": "code",
   "execution_count": 82,
   "id": "bb326f0d",
   "metadata": {},
   "outputs": [
    {
     "data": {
      "text/plain": [
       "('a', 'd', ['a'], ['a', 'b'])"
      ]
     },
     "execution_count": 82,
     "metadata": {},
     "output_type": "execute_result"
    }
   ],
   "source": [
    "b[0], b[-1], b[0:1], b[0:2] #리스트를 슬라이싱하면 리스트가 나온다."
   ]
  },
  {
   "cell_type": "code",
   "execution_count": 83,
   "id": "ad5b4a07",
   "metadata": {},
   "outputs": [
    {
     "data": {
      "text/plain": [
       "('a', 'd', ('a',), ('a', 'b'))"
      ]
     },
     "execution_count": 83,
     "metadata": {},
     "output_type": "execute_result"
    }
   ],
   "source": [
    "c[0], c[-1], c[0:1], c[0:2] #튜플을 슬라이싱하면 튜플이 나온다."
   ]
  },
  {
   "cell_type": "code",
   "execution_count": 76,
   "id": "85ebc479",
   "metadata": {},
   "outputs": [
    {
     "data": {
      "text/plain": [
       "'abcdab'"
      ]
     },
     "execution_count": 76,
     "metadata": {},
     "output_type": "execute_result"
    }
   ],
   "source": [
    "a + a[:2]"
   ]
  },
  {
   "cell_type": "code",
   "execution_count": 77,
   "id": "94a1d22b",
   "metadata": {},
   "outputs": [
    {
     "data": {
      "text/plain": [
       "['a', 'b', 'c', 'd', 'a', 'b']"
      ]
     },
     "execution_count": 77,
     "metadata": {},
     "output_type": "execute_result"
    }
   ],
   "source": [
    "b + b[:2]"
   ]
  },
  {
   "cell_type": "code",
   "execution_count": 78,
   "id": "aa0f22fb",
   "metadata": {},
   "outputs": [
    {
     "data": {
      "text/plain": [
       "('a', 'b', 'c', 'd', 'a', 'b')"
      ]
     },
     "execution_count": 78,
     "metadata": {},
     "output_type": "execute_result"
    }
   ],
   "source": [
    "c + c[:2]"
   ]
  },
  {
   "cell_type": "code",
   "execution_count": 79,
   "id": "20e993d2",
   "metadata": {},
   "outputs": [
    {
     "data": {
      "text/plain": [
       "'aaa'"
      ]
     },
     "execution_count": 79,
     "metadata": {},
     "output_type": "execute_result"
    }
   ],
   "source": [
    "a[0]*3"
   ]
  },
  {
   "cell_type": "code",
   "execution_count": 80,
   "id": "e896f378",
   "metadata": {},
   "outputs": [
    {
     "data": {
      "text/plain": [
       "['a', 'b', 'a', 'b']"
      ]
     },
     "execution_count": 80,
     "metadata": {},
     "output_type": "execute_result"
    }
   ],
   "source": [
    "b[:2]*2"
   ]
  },
  {
   "cell_type": "code",
   "execution_count": 81,
   "id": "5e9e9829",
   "metadata": {},
   "outputs": [
    {
     "data": {
      "text/plain": [
       "('c', 'c', 'c')"
      ]
     },
     "execution_count": 81,
     "metadata": {},
     "output_type": "execute_result"
    }
   ],
   "source": [
    "c[2:3]*3"
   ]
  },
  {
   "cell_type": "markdown",
   "id": "814f999b",
   "metadata": {},
   "source": [
    "## iterable object"
   ]
  },
  {
   "cell_type": "code",
   "execution_count": 1,
   "id": "24c5b66e",
   "metadata": {},
   "outputs": [],
   "source": [
    "a= 'abcd'; b=list(a);c=tuple(a)\n",
    "d={'a':2, 'b':1} ; e={2,12,3,2}"
   ]
  },
  {
   "cell_type": "code",
   "execution_count": 2,
   "id": "c7bce1b4",
   "metadata": {},
   "outputs": [
    {
     "data": {
      "text/plain": [
       "{'a': 2, 'b': 1}"
      ]
     },
     "execution_count": 2,
     "metadata": {},
     "output_type": "execute_result"
    }
   ],
   "source": [
    "d"
   ]
  },
  {
   "cell_type": "code",
   "execution_count": 3,
   "id": "536b0404",
   "metadata": {},
   "outputs": [
    {
     "data": {
      "text/plain": [
       "{2, 3, 12}"
      ]
     },
     "execution_count": 3,
     "metadata": {},
     "output_type": "execute_result"
    }
   ],
   "source": [
    "e"
   ]
  },
  {
   "cell_type": "code",
   "execution_count": 4,
   "id": "0b0a68ef",
   "metadata": {},
   "outputs": [
    {
     "data": {
      "text/plain": [
       "4"
      ]
     },
     "execution_count": 4,
     "metadata": {},
     "output_type": "execute_result"
    }
   ],
   "source": [
    "len(a)"
   ]
  },
  {
   "cell_type": "code",
   "execution_count": 5,
   "id": "62e329e3",
   "metadata": {},
   "outputs": [
    {
     "data": {
      "text/plain": [
       "4"
      ]
     },
     "execution_count": 5,
     "metadata": {},
     "output_type": "execute_result"
    }
   ],
   "source": [
    "len(b)"
   ]
  },
  {
   "cell_type": "code",
   "execution_count": 6,
   "id": "d397cb91",
   "metadata": {},
   "outputs": [
    {
     "data": {
      "text/plain": [
       "4"
      ]
     },
     "execution_count": 6,
     "metadata": {},
     "output_type": "execute_result"
    }
   ],
   "source": [
    "len(c)"
   ]
  },
  {
   "cell_type": "code",
   "execution_count": 7,
   "id": "145535fd",
   "metadata": {},
   "outputs": [
    {
     "data": {
      "text/plain": [
       "2"
      ]
     },
     "execution_count": 7,
     "metadata": {},
     "output_type": "execute_result"
    }
   ],
   "source": [
    "len(d)"
   ]
  },
  {
   "cell_type": "code",
   "execution_count": 8,
   "id": "12b79952",
   "metadata": {},
   "outputs": [
    {
     "data": {
      "text/plain": [
       "3"
      ]
     },
     "execution_count": 8,
     "metadata": {},
     "output_type": "execute_result"
    }
   ],
   "source": [
    "len(e)"
   ]
  },
  {
   "cell_type": "code",
   "execution_count": 9,
   "id": "72f788c7",
   "metadata": {},
   "outputs": [
    {
     "data": {
      "text/plain": [
       "True"
      ]
     },
     "execution_count": 9,
     "metadata": {},
     "output_type": "execute_result"
    }
   ],
   "source": [
    "'ab' in a"
   ]
  },
  {
   "cell_type": "code",
   "execution_count": 10,
   "id": "6e9b58fd",
   "metadata": {},
   "outputs": [
    {
     "data": {
      "text/plain": [
       "True"
      ]
     },
     "execution_count": 10,
     "metadata": {},
     "output_type": "execute_result"
    }
   ],
   "source": [
    "'b' in b"
   ]
  },
  {
   "cell_type": "code",
   "execution_count": 11,
   "id": "adbce008",
   "metadata": {},
   "outputs": [
    {
     "data": {
      "text/plain": [
       "True"
      ]
     },
     "execution_count": 11,
     "metadata": {},
     "output_type": "execute_result"
    }
   ],
   "source": [
    "'c' in c"
   ]
  },
  {
   "cell_type": "code",
   "execution_count": 12,
   "id": "3bf259a3",
   "metadata": {},
   "outputs": [
    {
     "data": {
      "text/plain": [
       "True"
      ]
     },
     "execution_count": 12,
     "metadata": {},
     "output_type": "execute_result"
    }
   ],
   "source": [
    "'a' in d"
   ]
  },
  {
   "cell_type": "code",
   "execution_count": 13,
   "id": "c8a7e8b2",
   "metadata": {},
   "outputs": [
    {
     "data": {
      "text/plain": [
       "True"
      ]
     },
     "execution_count": 13,
     "metadata": {},
     "output_type": "execute_result"
    }
   ],
   "source": [
    "12 in e"
   ]
  },
  {
   "cell_type": "code",
   "execution_count": 14,
   "id": "56c6744c",
   "metadata": {},
   "outputs": [
    {
     "name": "stdout",
     "output_type": "stream",
     "text": [
      "a\n",
      "b\n",
      "c\n",
      "d\n"
     ]
    }
   ],
   "source": [
    "for i in a:\n",
    "    print(i)"
   ]
  },
  {
   "cell_type": "code",
   "execution_count": 15,
   "id": "670cc8bd",
   "metadata": {},
   "outputs": [
    {
     "name": "stdout",
     "output_type": "stream",
     "text": [
      "a\n",
      "b\n",
      "c\n",
      "d\n"
     ]
    }
   ],
   "source": [
    "for i in b:\n",
    "    print(i)"
   ]
  },
  {
   "cell_type": "code",
   "execution_count": 16,
   "id": "350cd596",
   "metadata": {},
   "outputs": [
    {
     "name": "stdout",
     "output_type": "stream",
     "text": [
      "a\n",
      "b\n"
     ]
    }
   ],
   "source": [
    "for i in d:\n",
    "    print(i)"
   ]
  },
  {
   "cell_type": "code",
   "execution_count": 18,
   "id": "0ceb4b17",
   "metadata": {},
   "outputs": [
    {
     "name": "stdout",
     "output_type": "stream",
     "text": [
      "2\n",
      "3\n",
      "12\n"
     ]
    }
   ],
   "source": [
    "for i in e:\n",
    "    print(i)"
   ]
  },
  {
   "cell_type": "markdown",
   "id": "dc35abfe",
   "metadata": {},
   "source": [
    "## 문자열 메서드"
   ]
  },
  {
   "cell_type": "code",
   "execution_count": 35,
   "id": "82aca198",
   "metadata": {},
   "outputs": [],
   "source": [
    "a= \"they're Bill's friends from the UK.\""
   ]
  },
  {
   "cell_type": "code",
   "execution_count": 33,
   "id": "6db6e0aa",
   "metadata": {},
   "outputs": [
    {
     "data": {
      "text/plain": [
       "\"THEY'RE BILL'S FRIENDS FROM THE UK.\""
      ]
     },
     "execution_count": 33,
     "metadata": {},
     "output_type": "execute_result"
    }
   ],
   "source": [
    "a.upper() #문자열 에서 사용할 수 있는 method"
   ]
  },
  {
   "cell_type": "code",
   "execution_count": 34,
   "id": "480ccd63",
   "metadata": {},
   "outputs": [
    {
     "data": {
      "text/plain": [
       "\"they're bill's friends from the uk.\""
      ]
     },
     "execution_count": 34,
     "metadata": {},
     "output_type": "execute_result"
    }
   ],
   "source": [
    "a.lower() #만약에 함수면 lower(a) 라고 나갈 것임. "
   ]
  },
  {
   "cell_type": "code",
   "execution_count": 23,
   "id": "02e24e15",
   "metadata": {},
   "outputs": [
    {
     "data": {
      "text/plain": [
       "\"They're bill's friends from the uk.\""
      ]
     },
     "execution_count": 23,
     "metadata": {},
     "output_type": "execute_result"
    }
   ],
   "source": [
    "a.capitalize() #맨 앞 글자만 대문자로 바꾸고 나머지는 소문자로 만들어 줌. "
   ]
  },
  {
   "cell_type": "code",
   "execution_count": 25,
   "id": "e9db03d9",
   "metadata": {},
   "outputs": [
    {
     "data": {
      "text/plain": [
       "\"They'Re Bill'S Friends From The Uk.\""
      ]
     },
     "execution_count": 25,
     "metadata": {},
     "output_type": "execute_result"
    }
   ],
   "source": [
    "a.title() #앞 단어들만 대문자"
   ]
  },
  {
   "cell_type": "code",
   "execution_count": 26,
   "id": "ec32679c",
   "metadata": {},
   "outputs": [
    {
     "data": {
      "text/plain": [
       "4"
      ]
     },
     "execution_count": 26,
     "metadata": {},
     "output_type": "execute_result"
    }
   ],
   "source": [
    "a.count('e')"
   ]
  },
  {
   "cell_type": "code",
   "execution_count": 27,
   "id": "38d823e7",
   "metadata": {},
   "outputs": [
    {
     "data": {
      "text/plain": [
       "2"
      ]
     },
     "execution_count": 27,
     "metadata": {},
     "output_type": "execute_result"
    }
   ],
   "source": [
    "a.find('e')"
   ]
  },
  {
   "cell_type": "code",
   "execution_count": 28,
   "id": "95ca68d5",
   "metadata": {},
   "outputs": [
    {
     "data": {
      "text/plain": [
       "6"
      ]
     },
     "execution_count": 28,
     "metadata": {},
     "output_type": "execute_result"
    }
   ],
   "source": [
    "a.find('e',3)"
   ]
  },
  {
   "cell_type": "code",
   "execution_count": 36,
   "id": "4add9a8f",
   "metadata": {},
   "outputs": [
    {
     "data": {
      "text/plain": [
       "-1"
      ]
     },
     "execution_count": 36,
     "metadata": {},
     "output_type": "execute_result"
    }
   ],
   "source": [
    "a.find('e',3,6) #아무 것도 없는 경우 -1을 반환 "
   ]
  },
  {
   "cell_type": "code",
   "execution_count": 37,
   "id": "00f50fbe",
   "metadata": {},
   "outputs": [
    {
     "data": {
      "text/plain": [
       "30"
      ]
     },
     "execution_count": 37,
     "metadata": {},
     "output_type": "execute_result"
    }
   ],
   "source": [
    "a.rfind('e') #오른쪽부터 검색을 해서 찾는 것. "
   ]
  },
  {
   "cell_type": "code",
   "execution_count": 38,
   "id": "8594a9c9",
   "metadata": {},
   "outputs": [
    {
     "data": {
      "text/plain": [
       "\"they're Bill's friends from the UK.\""
      ]
     },
     "execution_count": 38,
     "metadata": {},
     "output_type": "execute_result"
    }
   ],
   "source": [
    "a"
   ]
  },
  {
   "cell_type": "code",
   "execution_count": 40,
   "id": "b7c59393",
   "metadata": {},
   "outputs": [
    {
     "data": {
      "text/plain": [
       "True"
      ]
     },
     "execution_count": 40,
     "metadata": {},
     "output_type": "execute_result"
    }
   ],
   "source": [
    "a.endswith('UK.')"
   ]
  },
  {
   "cell_type": "code",
   "execution_count": 41,
   "id": "aa87916b",
   "metadata": {},
   "outputs": [
    {
     "data": {
      "text/plain": [
       "True"
      ]
     },
     "execution_count": 41,
     "metadata": {},
     "output_type": "execute_result"
    }
   ],
   "source": [
    "a.startswith('t')"
   ]
  },
  {
   "cell_type": "code",
   "execution_count": 51,
   "id": "7fdccedb",
   "metadata": {},
   "outputs": [
    {
     "data": {
      "text/plain": [
       "True"
      ]
     },
     "execution_count": 51,
     "metadata": {},
     "output_type": "execute_result"
    }
   ],
   "source": [
    "'abc한글123'.isalnum() #alphabet and num 숫자 인가?"
   ]
  },
  {
   "cell_type": "code",
   "execution_count": 53,
   "id": "45e89043",
   "metadata": {},
   "outputs": [
    {
     "data": {
      "text/plain": [
       "True"
      ]
     },
     "execution_count": 53,
     "metadata": {},
     "output_type": "execute_result"
    }
   ],
   "source": [
    "'abc한글'.isalpha() #alphabet 문자"
   ]
  },
  {
   "cell_type": "code",
   "execution_count": 46,
   "id": "00354b9e",
   "metadata": {},
   "outputs": [
    {
     "data": {
      "text/plain": [
       "True"
      ]
     },
     "execution_count": 46,
     "metadata": {},
     "output_type": "execute_result"
    }
   ],
   "source": [
    "'123'.isdigit()"
   ]
  },
  {
   "cell_type": "code",
   "execution_count": 47,
   "id": "4673b1fb",
   "metadata": {},
   "outputs": [
    {
     "data": {
      "text/plain": [
       "True"
      ]
     },
     "execution_count": 47,
     "metadata": {},
     "output_type": "execute_result"
    }
   ],
   "source": [
    "'abc'.islower()"
   ]
  },
  {
   "cell_type": "code",
   "execution_count": 48,
   "id": "572b17cb",
   "metadata": {},
   "outputs": [
    {
     "data": {
      "text/plain": [
       "True"
      ]
     },
     "execution_count": 48,
     "metadata": {},
     "output_type": "execute_result"
    }
   ],
   "source": [
    "'ABC'.isupper()"
   ]
  },
  {
   "cell_type": "code",
   "execution_count": 49,
   "id": "5add5a1b",
   "metadata": {},
   "outputs": [
    {
     "data": {
      "text/plain": [
       "True"
      ]
     },
     "execution_count": 49,
     "metadata": {},
     "output_type": "execute_result"
    }
   ],
   "source": [
    "'Abc Def'.istitle()"
   ]
  },
  {
   "cell_type": "code",
   "execution_count": 54,
   "id": "dbfc4ae8",
   "metadata": {},
   "outputs": [
    {
     "data": {
      "text/plain": [
       "True"
      ]
     },
     "execution_count": 54,
     "metadata": {},
     "output_type": "execute_result"
    }
   ],
   "source": [
    "'abc123%^%.'.isprintable()"
   ]
  },
  {
   "cell_type": "code",
   "execution_count": 55,
   "id": "fc9cff5f",
   "metadata": {},
   "outputs": [
    {
     "data": {
      "text/plain": [
       "True"
      ]
     },
     "execution_count": 55,
     "metadata": {},
     "output_type": "execute_result"
    }
   ],
   "source": [
    "'\\t \\n'.isspace()"
   ]
  },
  {
   "cell_type": "code",
   "execution_count": 56,
   "id": "1ee45002",
   "metadata": {},
   "outputs": [],
   "source": [
    "a = '\\t \\nl like\\t\\nprogramming.\\n\\n'"
   ]
  },
  {
   "cell_type": "code",
   "execution_count": 57,
   "id": "2652b67b",
   "metadata": {},
   "outputs": [
    {
     "data": {
      "text/plain": [
       "'l like\\t\\nprogramming.'"
      ]
     },
     "execution_count": 57,
     "metadata": {},
     "output_type": "execute_result"
    }
   ],
   "source": [
    "a.strip() #양 사이드에 공백문자를 제거해줌, 왼쪽의 \\t \\n, 오른쪽 문자의 \\n\\n 제거해줌.ㅍ "
   ]
  },
  {
   "cell_type": "code",
   "execution_count": 64,
   "id": "432fc63e",
   "metadata": {},
   "outputs": [
    {
     "data": {
      "text/plain": [
       "'\\t \\nl like\\t\\nprogramming.'"
      ]
     },
     "execution_count": 64,
     "metadata": {},
     "output_type": "execute_result"
    }
   ],
   "source": [
    "a.rstrip() #오른쪽 공백문자를 제거해줌"
   ]
  },
  {
   "cell_type": "code",
   "execution_count": 65,
   "id": "7f16ef70",
   "metadata": {},
   "outputs": [
    {
     "data": {
      "text/plain": [
       "'l like\\t\\nprogramming.\\n\\n'"
      ]
     },
     "execution_count": 65,
     "metadata": {},
     "output_type": "execute_result"
    }
   ],
   "source": [
    "a.lstrip() #왼쪽 공백문자를 제거해줌"
   ]
  },
  {
   "cell_type": "code",
   "execution_count": 66,
   "id": "7a7fa740",
   "metadata": {},
   "outputs": [
    {
     "data": {
      "text/plain": [
       "' \\nl like\\t\\npro'"
      ]
     },
     "execution_count": 66,
     "metadata": {},
     "output_type": "execute_result"
    }
   ],
   "source": [
    "a.strip('\\n.\\tgnimar') #이 원소중에 하나라도 남아 있으면 제거하라는 뜻"
   ]
  },
  {
   "cell_type": "code",
   "execution_count": 61,
   "id": "b9b8d43d",
   "metadata": {},
   "outputs": [
    {
     "data": {
      "text/plain": [
       "'\\t \\nl like\\t\\nprograMMing.\\n\\n'"
      ]
     },
     "execution_count": 61,
     "metadata": {},
     "output_type": "execute_result"
    }
   ],
   "source": [
    "a.replace('m','M')"
   ]
  },
  {
   "cell_type": "code",
   "execution_count": 62,
   "id": "38681373",
   "metadata": {},
   "outputs": [
    {
     "data": {
      "text/plain": [
       "['l', 'like', 'programming.']"
      ]
     },
     "execution_count": 62,
     "metadata": {},
     "output_type": "execute_result"
    }
   ],
   "source": [
    "a.split() # 양 사이드에 strip 을 넣어서 먼저 구분문자를 다 제거해주고, 스페이스바를 기준으로 나눠줌. "
   ]
  },
  {
   "cell_type": "code",
   "execution_count": 63,
   "id": "93a6958c",
   "metadata": {},
   "outputs": [
    {
     "data": {
      "text/plain": [
       "['\\t ', 'l like\\t', 'programming.', '', '']"
      ]
     },
     "execution_count": 63,
     "metadata": {},
     "output_type": "execute_result"
    }
   ],
   "source": [
    "a.split('\\n')"
   ]
  },
  {
   "cell_type": "code",
   "execution_count": 68,
   "id": "941f1638",
   "metadata": {},
   "outputs": [
    {
     "data": {
      "text/plain": [
       "['\\t ', 'l like\\t', 'programming.', '']"
      ]
     },
     "execution_count": 68,
     "metadata": {},
     "output_type": "execute_result"
    }
   ],
   "source": [
    "a.splitlines() #default 값이 False임"
   ]
  },
  {
   "cell_type": "code",
   "execution_count": 71,
   "id": "b94474d1",
   "metadata": {},
   "outputs": [
    {
     "data": {
      "text/plain": [
       "['\\t ', 'l like\\t', 'programming.', '']"
      ]
     },
     "execution_count": 71,
     "metadata": {},
     "output_type": "execute_result"
    }
   ],
   "source": [
    "a.splitlines(False) #라인 이라는 것은 \\n을 의미함."
   ]
  },
  {
   "cell_type": "code",
   "execution_count": 72,
   "id": "d6a0cace",
   "metadata": {},
   "outputs": [
    {
     "data": {
      "text/plain": [
       "['\\t \\n', 'l like\\t\\n', 'programming.\\n', '\\n']"
      ]
     },
     "execution_count": 72,
     "metadata": {},
     "output_type": "execute_result"
    }
   ],
   "source": [
    "a.splitlines(True) #마지막 \\n을 포함해서 봄"
   ]
  },
  {
   "cell_type": "code",
   "execution_count": 73,
   "id": "2a63d47d",
   "metadata": {},
   "outputs": [
    {
     "data": {
      "text/plain": [
       "('\\t \\nl like\\t\\nprogrammi', 'n', 'g.\\n\\n')"
      ]
     },
     "execution_count": 73,
     "metadata": {},
     "output_type": "execute_result"
    }
   ],
   "source": [
    "a.partition('n')  #구분자가 없어지지 않고,무조건 3개로 구분됨. 구분자 왼쪽, 구분자 오른쪽만."
   ]
  },
  {
   "cell_type": "code",
   "execution_count": 74,
   "id": "80546f44",
   "metadata": {},
   "outputs": [
    {
     "data": {
      "text/plain": [
       "'l:like:programming.'"
      ]
     },
     "execution_count": 74,
     "metadata": {},
     "output_type": "execute_result"
    }
   ],
   "source": [
    "':'.join(a.split())"
   ]
  },
  {
   "cell_type": "markdown",
   "id": "8862680e",
   "metadata": {},
   "source": [
    "## 실습 문제"
   ]
  },
  {
   "cell_type": "markdown",
   "id": "fd1985e4",
   "metadata": {},
   "source": [
    "### 연습문제 1"
   ]
  },
  {
   "cell_type": "code",
   "execution_count": 75,
   "id": "281d3b2f",
   "metadata": {},
   "outputs": [
    {
     "name": "stdout",
     "output_type": "stream",
     "text": [
      "\n",
      "abc\n",
      "abc\n",
      "abc\n"
     ]
    }
   ],
   "source": [
    "a='\\nabc\\nabc\\nabc' #문자열\n",
    "print(a)"
   ]
  },
  {
   "cell_type": "code",
   "execution_count": 85,
   "id": "e76f3cb0",
   "metadata": {},
   "outputs": [
    {
     "data": {
      "text/plain": [
       "['\\n', 'abc\\n', 'abc\\n']"
      ]
     },
     "execution_count": 85,
     "metadata": {},
     "output_type": "execute_result"
    }
   ],
   "source": [
    "b=a.rstrip('abc').splitlines(True)\n",
    "b"
   ]
  },
  {
   "cell_type": "markdown",
   "id": "dabcdf49",
   "metadata": {},
   "source": [
    "### 연습문제 2"
   ]
  },
  {
   "cell_type": "markdown",
   "id": "7023fb2f",
   "metadata": {},
   "source": [
    "#### 답안 1"
   ]
  },
  {
   "cell_type": "code",
   "execution_count": 89,
   "id": "9de3808a",
   "metadata": {},
   "outputs": [
    {
     "data": {
      "text/plain": [
       "'A*:*aA:A:A'"
      ]
     },
     "execution_count": 89,
     "metadata": {},
     "output_type": "execute_result"
    }
   ],
   "source": [
    "a='A:aA:A:A'\n",
    "b=a.replace(':a','*:*a')\n",
    "b"
   ]
  },
  {
   "cell_type": "code",
   "execution_count": 97,
   "id": "b0ad2128",
   "metadata": {},
   "outputs": [
    {
     "data": {
      "text/plain": [
       "['A', 'Apple']"
      ]
     },
     "execution_count": 97,
     "metadata": {},
     "output_type": "execute_result"
    }
   ],
   "source": [
    "a= 'A:apple'\n",
    "b = a.title().split(':')\n",
    "b"
   ]
  },
  {
   "cell_type": "markdown",
   "id": "a4b892c6",
   "metadata": {},
   "source": [
    "#### 답안 2"
   ]
  },
  {
   "cell_type": "code",
   "execution_count": 95,
   "id": "8b6c2462",
   "metadata": {},
   "outputs": [
    {
     "data": {
      "text/plain": [
       "'A*:*aA:A:A'"
      ]
     },
     "execution_count": 95,
     "metadata": {},
     "output_type": "execute_result"
    }
   ],
   "source": [
    "a = 'A:aA:A:A'\n",
    "b= '*'.join(a.partition(\":\"))\n",
    "b"
   ]
  }
 ],
 "metadata": {
  "kernelspec": {
   "display_name": "Python 3 (ipykernel)",
   "language": "python",
   "name": "python3"
  },
  "language_info": {
   "codemirror_mode": {
    "name": "ipython",
    "version": 3
   },
   "file_extension": ".py",
   "mimetype": "text/x-python",
   "name": "python",
   "nbconvert_exporter": "python",
   "pygments_lexer": "ipython3",
   "version": "3.9.13"
  }
 },
 "nbformat": 4,
 "nbformat_minor": 5
}
